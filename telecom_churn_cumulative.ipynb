{
 "cells": [
  {
   "cell_type": "code",
   "execution_count": null,
   "metadata": {},
   "outputs": [],
   "source": [
    "import pandas as pd\n",
    "pd.set_option('display.max_columns', None)\n",
    "import numpy as np\n",
    "import math"
   ]
  },
  {
   "cell_type": "code",
   "execution_count": null,
   "metadata": {},
   "outputs": [],
   "source": [
    "telecom_df = pd.read_csv('telecom_churn_data.csv')\n",
    "print(telecom_df.head(5))\n",
    "print(telecom_df.shape) #(99999, 226)\n",
    "print(telecom_df.info()) "
   ]
  },
  {
   "cell_type": "markdown",
   "metadata": {},
   "source": [
    "## Preprocessing"
   ]
  },
  {
   "cell_type": "markdown",
   "metadata": {},
   "source": [
    "#### Date column formatting"
   ]
  },
  {
   "cell_type": "code",
   "execution_count": null,
   "metadata": {},
   "outputs": [],
   "source": [
    "#print(telecom_df.select_dtypes(include=['object']).head())\n",
    "#These are all of type data, of format mm/dd/yyyy, conver to dates\n",
    "#for all date columns, keep only the day of the month, since month is present in the\n",
    "#column name, year is common for all.\n",
    "date_columns = list(telecom_df.select_dtypes(include=['object']).columns)\n",
    "for column in date_columns:\n",
    "    telecom_df[column] = pd.to_datetime(telecom_df[column], format='%m/%d/%Y')\n",
    "    telecom_df[column] = telecom_df[column].dt.day"
   ]
  },
  {
   "cell_type": "markdown",
   "metadata": {},
   "source": [
    "#### Identify Redundant columns"
   ]
  },
  {
   "cell_type": "code",
   "execution_count": null,
   "metadata": {},
   "outputs": [],
   "source": [
    "#Find columns with only single non-null value\n",
    "redundant_cols = [col for col in telecom_df.columns if telecom_df[col].nunique()==1]\n",
    "telecom_df = telecom_df.drop(redundant_cols, axis=1)\n",
    "print('Following columns were removed: \\n',redundant_cols)"
   ]
  },
  {
   "cell_type": "markdown",
   "metadata": {},
   "source": [
    "#### Identifying the top 30 percentile in terms of total recharge done in month 6 and 7 (good phase)"
   ]
  },
  {
   "cell_type": "code",
   "execution_count": null,
   "metadata": {},
   "outputs": [],
   "source": [
    "#Those who have recharged with an amount more than or equal to X, \n",
    "#where X is the 70th percentile of the average recharge amount in the first two months (the good phase).\n",
    "'''\n",
    "print(telecom_df['total_rech_amt_6'].isnull().sum()) 0;\n",
    "print(telecom_df['total_rech_amt_7'].isnull().sum()) 0;\n",
    "print(telecom_df['total_rech_num_6'].isnull().sum()) 0;\n",
    "print(telecom_df['total_rech_num_7'].isnull().sum()) 0;\n",
    "'''\n",
    "#since, all values for the columns used below are non-nulls, we need not do any imputation here\n",
    "if 'av_rech_67' not in list(telecom_df.columns):\n",
    "    telecom_df['av_rech_67'] =  (telecom_df['total_rech_amt_6']+telecom_df['total_rech_amt_7'])/(telecom_df['total_rech_num_6']+telecom_df['total_rech_num_7'])\n",
    "    avg_70_quantile = telecom_df.av_rech_67.quantile(q=0.7)\n",
    "    telecom_df = telecom_df[telecom_df.av_rech_67>= avg_70_quantile]\n",
    "print ('Data is now at 70th quantile of average recharge for the first 2 months. Total rows remaining: '+ str(len(telecom_df)))"
   ]
  },
  {
   "cell_type": "markdown",
   "metadata": {},
   "source": [
    "#### Null value analysis\n"
   ]
  },
  {
   "cell_type": "code",
   "execution_count": null,
   "metadata": {},
   "outputs": [],
   "source": [
    "telecom_df.isnull().sum().describe()\n",
    "# telecom_df.isnull().sum()>0).sum()\n",
    "# 166 columns with missing values\n",
    "# A lot of values are missing in many colums. Cannot remove such rows. Will have to find a way to impute"
   ]
  },
  {
   "cell_type": "markdown",
   "metadata": {},
   "source": [
    "##### Nullvalue imputation for internet-data based columns"
   ]
  },
  {
   "cell_type": "code",
   "execution_count": null,
   "metadata": {},
   "outputs": [],
   "source": [
    "for month in [6,7,8,9]:\n",
    "    max_rech_data = 'max_rech_data_'+str(month)\n",
    "    av_rech_amt_data='av_rech_amt_data_'+str(month)\n",
    "    total_rech_data = 'total_rech_data_'+str(month)\n",
    "    date_of_last_rech_data = 'date_of_last_rech_data_'+str(month)\n",
    "    count_rech_3g = 'count_rech_3g_'+str(month)\n",
    "    count_rech_2g = 'count_rech_2g_'+str(month)\n",
    "    arpu_3g = 'arpu_3g_'+str(month)\n",
    "    arpu_2g = 'arpu_2g_'+str(month)\n",
    "    fb_user = 'fb_user_'+str(month)\n",
    "    night_pck_user = 'night_pck_user_' +str(month)\n",
    "\n",
    "    #Verify, that if toatl rech_data is null, then max, av, date, count_3g, count_2g are null too \n",
    "    #nonnullrows = np.sum(np.sum(telecom_df[telecom_df[total_rech_data].isnull()]\n",
    "    #if last date for data recharge is null, then verify if other elements corresponding to null are null/0 too. If yes,\n",
    "    # we can assign all of them as 0.\n",
    "    \n",
    "    max_rech_nonzerorows = len(telecom_df[(telecom_df[date_of_last_rech_data].isnull()) & ((~telecom_df[max_rech_data].isnull()) | (telecom_df[max_rech_data]>0))])\n",
    "    if max_rech_nonzerorows == 0:\n",
    "        telecom_df.loc[telecom_df[date_of_last_rech_data].isnull(),max_rech_data] = 0\n",
    "\n",
    "    #Similarily for rest columns too\n",
    "    assumption=True\n",
    "    for data_colm in [total_rech_data, av_rech_amt_data,count_rech_3g,count_rech_2g,arpu_3g,arpu_2g,fb_user,night_pck_user]:\n",
    "        rech_colm_nonzerorows = len(telecom_df[(telecom_df[date_of_last_rech_data].isnull()) & ((~telecom_df[data_colm].isnull()) | (telecom_df[data_colm]>0))])\n",
    "        if rech_colm_nonzerorows == 0:\n",
    "            telecom_df.loc[telecom_df[date_of_last_rech_data].isnull(),data_colm] = 0\n",
    "        else:\n",
    "            assumption = False\n",
    "            print('Wrong assumption for', data_colm)\n",
    "    if assumption == True:\n",
    "#       If assumption was correct, then provide invalid date, or -ve\n",
    "        telecom_df.loc[telecom_df[date_of_last_rech_data].isnull(),date_of_last_rech_data] = -1"
   ]
  },
  {
   "cell_type": "markdown",
   "metadata": {},
   "source": [
    "##### Nullvalue imputation for basic recharge based columns"
   ]
  },
  {
   "cell_type": "code",
   "execution_count": null,
   "metadata": {},
   "outputs": [],
   "source": [
    "def makeZeroIfTotalIsZero(colm, total_colm, typeofcol):\n",
    "    total_ = np.sum(telecom_df[telecom_df[colm].isnull()][total_colm])\n",
    "    if total_ == 0:\n",
    "        #('Total for ', typeofcol, ' is 0. Hence make all null values 0')\n",
    "        telecom_df.loc[telecom_df[colm].isnull(),colm] = 0\n",
    "\n",
    "for month in [6,7,8,9]:\n",
    "    total_ic_mou = 'total_ic_mou_'+str(month)\n",
    "    roam_ic_mou = 'roam_ic_mou_'+str(month)\n",
    "    loc_ic_t2t_mou = 'loc_ic_t2t_mou_'+str(month)\n",
    "    loc_ic_t2m_mou = 'loc_ic_t2m_mou_'+str(month)\n",
    "    loc_ic_t2f_mou = 'loc_ic_t2f_mou_'+str(month)\n",
    "    loc_ic_mou  = 'loc_ic_mou_'+str(month)\n",
    "    std_ic_t2t_mou = 'std_ic_t2t_mou_'+str(month)\n",
    "    std_ic_t2m_mou = 'std_ic_t2m_mou_'+str(month)\n",
    "    std_ic_t2f_mou = 'std_ic_t2f_mou_'+str(month)\n",
    "    std_ic_mou  =  'std_ic_mou_'+str(month)\n",
    "    spl_ic_mou = 'spl_ic_mou_'+str(month)\n",
    "    isd_ic_mou = 'isd_ic_mou_'+str(month)\n",
    "    ic_others  = 'ic_others_'+str(month)\n",
    "\n",
    "    total_og_mou = 'total_og_mou_' + str(month)\n",
    "    roam_og_mou = 'roam_og_mou_' + str(month)\n",
    "    loc_og_t2t_mou = 'loc_og_t2t_mou_' + str(month)\n",
    "    loc_og_t2m_mou = 'loc_og_t2m_mou_' + str(month)\n",
    "    loc_og_t2f_mou = 'loc_og_t2f_mou_' + str(month)\n",
    "    loc_og_t2c_mou = 'loc_og_t2c_mou_' + str(month)\n",
    "    loc_og_mou = 'loc_og_mou_' + str(month)\n",
    "    std_og_t2t_mou = 'std_og_t2t_mou_' + str(month)\n",
    "    std_og_t2m_mou = 'std_og_t2m_mou_' + str(month)\n",
    "    std_og_t2f_mou = 'std_og_t2f_mou_' + str(month)\n",
    "    std_og_mou = 'std_og_mou_' + str(month)\n",
    "    isd_og_mou = 'isd_og_mou_' + str(month)\n",
    "    spl_og_mou = 'spl_og_mou_' + str(month)\n",
    "    og_others = 'og_others_' + str(month)\n",
    "      \n",
    "    onnet_mou = 'onnet_mou_'+str(month)\n",
    "    offnet_mou = 'offnet_mou_'+str(month)\n",
    "\n",
    "    date_of_last_rech = 'date_of_last_rech_' + str(month)\n",
    "    total_rech_amt = 'total_rech_amt_'+ str(month)\n",
    "    #Incoming columns\n",
    "    for colm in [roam_ic_mou, loc_ic_t2t_mou, loc_ic_t2m_mou, \n",
    "                 loc_ic_t2f_mou, loc_ic_mou, std_ic_t2t_mou, \n",
    "                 std_ic_t2m_mou, std_ic_t2f_mou, std_ic_mou,\n",
    "                 spl_ic_mou, isd_ic_mou, ic_others]:\n",
    "        makeZeroIfTotalIsZero(colm, total_ic_mou, 'incoming')\n",
    "    \n",
    "    #Outgoing columns\n",
    "\n",
    "    for colm in [roam_og_mou,loc_og_t2t_mou,loc_og_t2m_mou,\n",
    "                 loc_og_t2f_mou,loc_og_t2c_mou,loc_og_mou,\n",
    "                 std_og_t2t_mou,std_og_t2m_mou,std_og_t2f_mou,\n",
    "                 std_og_mou,isd_og_mou,spl_og_mou,og_others]:\n",
    "        makeZeroIfTotalIsZero(colm, total_ic_mou, 'outgoing')\n",
    "    \n",
    "    #Onnet columns\n",
    "    #If outgoing + incoming mou for the nuxll entries is 0, then onnet, offnet mou are also 0\n",
    "    outgoing_mou_when_onnet_null = np.sum(telecom_df[telecom_df[onnet_mou].isnull()][total_og_mou])\n",
    "    incoming_mou_when_onnet_null = np.sum(telecom_df[telecom_df[onnet_mou].isnull()][total_ic_mou])\n",
    "    onnet = outgoing_mou_when_onnet_null+incoming_mou_when_onnet_null\n",
    "    #'Total onnet(calculated) for month: ', str(month), ' is: ', onnet, ' Actual null'..... #0\n",
    "    telecom_df.loc[telecom_df[onnet_mou].isnull(),onnet_mou] = 0\n",
    "    \n",
    "    outgoing_mou_when_offnet_null = np.sum(telecom_df[telecom_df[offnet_mou].isnull()][total_og_mou])\n",
    "    incoming_mou_when_offnet_null = np.sum(telecom_df[telecom_df[offnet_mou].isnull()][total_ic_mou])\n",
    "    offnet = outgoing_mou_when_offnet_null+incoming_mou_when_offnet_null\n",
    "    #'Total offnet(calculated) for month: ', str(month), ' is: ', offnet, ' Actual null'.... #0\n",
    "    telecom_df.loc[telecom_df[offnet_mou].isnull(),offnet_mou] = 0\n",
    "    \n",
    "    \n",
    "    total_ = np.sum(telecom_df[telecom_df[date_of_last_rech].isnull()][total_rech_amt])\n",
    "    if total_ == 0:\n",
    "        telecom_df.loc[telecom_df[date_of_last_rech].isnull(),date_of_last_rech] = -1"
   ]
  },
  {
   "cell_type": "code",
   "execution_count": null,
   "metadata": {},
   "outputs": [],
   "source": [
    "#Verify there are no null values remaining\n",
    "print (0 == (telecom_df.isnull().sum()>0).sum()) # True"
   ]
  },
  {
   "cell_type": "markdown",
   "metadata": {},
   "source": [
    "## Feature Engineering"
   ]
  },
  {
   "cell_type": "markdown",
   "metadata": {},
   "source": [
    "### 1. Target variable (Churn)"
   ]
  },
  {
   "cell_type": "code",
   "execution_count": null,
   "metadata": {},
   "outputs": [],
   "source": [
    "#Identify churners now\n",
    "telecom_df['churn'] = np.zeros(len(telecom_df))\n",
    "telecom_df.loc[((telecom_df['total_ic_mou_9'] == 0) & \n",
    "                           (telecom_df['total_og_mou_9'] == 0) &\n",
    "                           (telecom_df['vol_2g_mb_9'] == 0) &\n",
    "                           (telecom_df['vol_3g_mb_9'] == 0) \n",
    "               ),'churn'] = 1\n",
    "#Remove everything with _9\n",
    "colms_with_9 = [colm for colm in telecom_df.columns if colm.endswith('_9')]\n",
    "telecom_df = telecom_df.drop(colms_with_9, axis=1)"
   ]
  },
  {
   "cell_type": "markdown",
   "metadata": {},
   "source": [
    "### 2. Recency variables"
   ]
  },
  {
   "cell_type": "code",
   "execution_count": null,
   "metadata": {},
   "outputs": [],
   "source": [
    "telecom_df['recency_goodphase'] = np.ones(len(telecom_df))*61\n",
    "telecom_df['recency_goodphase_data'] = np.ones(len(telecom_df))*61\n",
    "\n",
    "#Regular recharge\n",
    "telecom_df.loc[telecom_df.date_of_last_rech_7>0,'recency_goodphase']= 31 - telecom_df[telecom_df.date_of_last_rech_7 > 0].date_of_last_rech_7\n",
    "telecom_df.loc[(telecom_df.date_of_last_rech_7<0)&(telecom_df.date_of_last_rech_6>0),'recency_goodphase']= 31 + (30 - telecom_df[(telecom_df.date_of_last_rech_7<0)&(telecom_df.date_of_last_rech_6 > 0)].date_of_last_rech_6)\n",
    "                                                                            \n",
    "                 \n",
    "#Data recharge\n",
    "telecom_df.loc[telecom_df.date_of_last_rech_data_7>0,'recency_goodphase_data']= 31 - telecom_df[telecom_df.date_of_last_rech_data_7 > 0].date_of_last_rech_data_7\n",
    "telecom_df.loc[(telecom_df.date_of_last_rech_data_7<0)&(telecom_df.date_of_last_rech_data_6>0),'recency_goodphase_data']= 31 + (30 - telecom_df[(telecom_df.date_of_last_rech_data_7<0)&(telecom_df.date_of_last_rech_data_6 > 0)].date_of_last_rech_data_6) "
   ]
  },
  {
   "cell_type": "markdown",
   "metadata": {},
   "source": [
    "### 3. Data volume consumed per rupee of recharge"
   ]
  },
  {
   "cell_type": "code",
   "execution_count": null,
   "metadata": {},
   "outputs": [],
   "source": [
    "#Data Volume of data used per rupee. (2gvol+3gvol)/av_rech_amt_data\n",
    "for month in [6,7,8]:\n",
    "    data_volm_used_per_rupee = 'data_volm_used_per_rupee_'+str(month)\n",
    "    vol_3g_mb = 'vol_3g_mb_'+str(month)\n",
    "    vol_2g_mb = 'vol_2g_mb_'+str(month)\n",
    "    av_recharge = 'av_rech_amt_data_'+str(month)\n",
    "    telecom_df.loc[telecom_df[av_recharge]==0, data_volm_used_per_rupee] =0\n",
    "    telecom_df.loc[telecom_df[av_recharge]>0,data_volm_used_per_rupee] = (telecom_df[vol_2g_mb] + telecom_df[vol_3g_mb])/telecom_df[av_recharge]"
   ]
  },
  {
   "cell_type": "markdown",
   "metadata": {},
   "source": [
    "### 4. Data heavy/ call heavy"
   ]
  },
  {
   "cell_type": "code",
   "execution_count": null,
   "metadata": {},
   "outputs": [],
   "source": [
    "for month in [6,7,8]: \n",
    "    colname = 'dataHeavy_'+str(month)\n",
    "    total_amt_data = telecom_df['av_rech_amt_data_'+str(month)]\n",
    "    total_amt_basic = telecom_df['total_rech_amt_'+str(month)]\n",
    "    telecom_df[colname] = total_amt_data/total_amt_basic\n",
    "    telecom_df.loc[telecom_df[colname]>1, colname] = 1\n",
    "    telecom_df.loc[telecom_df[colname]<1, colname] = 0"
   ]
  },
  {
   "cell_type": "markdown",
   "metadata": {},
   "source": [
    "### 5. Good-phase aggregate variables"
   ]
  },
  {
   "cell_type": "code",
   "execution_count": null,
   "metadata": {},
   "outputs": [],
   "source": [
    "#The variables to combine in goodphase vs month8\n",
    "cols_monthwise_67 =list(set(['_'.join(colm.split('_')[:-1]) for colm in telecom_df.columns if (colm.endswith('_6') or colm.endswith('_7'))]))"
   ]
  },
  {
   "cell_type": "code",
   "execution_count": null,
   "metadata": {},
   "outputs": [],
   "source": [
    "#aggregation techniques to combine columns from month 6 and 7 to goodphase vaiables\n",
    "suffix = '_goodphase'\n",
    "def agg_weighted_addtion(col):\n",
    "    w_7 = 0.7 \n",
    "    w_6 = 0.3\n",
    "    telecom_df[col+suffix] = telecom_df[col+'_6']*w_6 + telecom_df[col+'_7']*w_7\n",
    "\n",
    "def max_assign(col):\n",
    "    telecom_df[col+suffix] = np.max(telecom_df[[col+'_6',col+'_7']], axis=1)    \n",
    "\n",
    "def direct_assign(col):\n",
    "    telecom_df[col+suffix] = telecom_df[col+'_7'] #more weight for 7th month\n",
    "    #telecom_df[col+suffix] = telecom_df[col+suffix].apply(lambda num: 1 if num>1 else 0)\n",
    "\n",
    "max_cols = ['max_rech_data','max_rech_amt']\n",
    "continuity_cols = ['fb_user','night_pck_user','sachet_2g','sachet_3g','monthly_2g','monthly_3g','dataHeavy','last_day_rch_amt']\n",
    "numeric_cols = [ 'loc_og_t2t_mou','loc_ic_t2m_mou','loc_ic_mou','total_rech_num', \\\n",
    "             'onnet_mou','count_rech_3g','vol_3g_mb','roam_ic_mou','loc_og_t2m_mou', \\\n",
    "             'total_rech_amt','loc_og_t2f_mou','std_og_t2m_mou','loc_og_t2c_mou','std_ic_t2f_mou', \\\n",
    "             'loc_ic_t2t_mou', 'total_rech_data','arpu_2g','count_rech_2g','roam_og_mou', \\\n",
    "             'og_others','loc_og_mou','std_og_mou','ic_others','total_og_mou','std_og_t2t_mou', \\\n",
    "             'arpu_3g','isd_og_mou','vol_2g_mb','isd_ic_mou','std_ic_mou','std_ic_t2m_mou', \\\n",
    "             'total_ic_mou','spl_ic_mou','spl_og_mou','std_ic_t2t_mou','loc_ic_t2f_mou', \\\n",
    "             'offnet_mou', 'std_og_t2f_mou','arpu','av_rech_amt_data','data_volm_used_per_rupee']\n"
   ]
  },
  {
   "cell_type": "code",
   "execution_count": null,
   "metadata": {},
   "outputs": [],
   "source": [
    "for col in numeric_cols:\n",
    "    agg_weighted_addtion(col)\n",
    "    \n",
    "for col in continuity_cols:\n",
    "    direct_assign(col)\n",
    "\n",
    "for col in max_cols:\n",
    "    max_assign(col)\n",
    "\n",
    "for col in cols_monthwise_67:\n",
    "    telecom_df = telecom_df.drop(col+'_6', axis=1)\n",
    "    telecom_df = telecom_df.drop(col+'_7', axis=1)"
   ]
  },
  {
   "cell_type": "code",
   "execution_count": null,
   "metadata": {},
   "outputs": [],
   "source": []
  }
 ],
 "metadata": {
  "kernelspec": {
   "display_name": "Python 3",
   "language": "python",
   "name": "python3"
  },
  "language_info": {
   "codemirror_mode": {
    "name": "ipython",
    "version": 3
   },
   "file_extension": ".py",
   "mimetype": "text/x-python",
   "name": "python",
   "nbconvert_exporter": "python",
   "pygments_lexer": "ipython3",
   "version": "3.7.2"
  }
 },
 "nbformat": 4,
 "nbformat_minor": 2
}
